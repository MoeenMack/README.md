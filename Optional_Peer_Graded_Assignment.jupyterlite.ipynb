{
  "metadata": {
    "kernelspec": {
      "name": "python",
      "display_name": "Python (Pyodide)",
      "language": "python"
    },
    "language_info": {
      "codemirror_mode": {
        "name": "python",
        "version": 3
      },
      "file_extension": ".py",
      "mimetype": "text/x-python",
      "name": "python",
      "nbconvert_exporter": "python",
      "pygments_lexer": "ipython3",
      "version": "3.8"
    }
  },
  "nbformat_minor": 4,
  "nbformat": 4,
  "cells": [
    {
      "cell_type": "markdown",
      "source": "<p style=\"text-align:center\">\n    <a href=\"https://skills.network/?utm_medium=Exinfluencer&utm_source=Exinfluencer&utm_content=000026UJ&utm_term=10006555&utm_id=NA-SkillsNetwork-Channel-SkillsNetworkCoursesIBMDeveloperSkillsNetworkST0151ENSkillsNetwork20531532-2022-01-01\" target=\"_blank\">\n    <img src=\"https://cf-courses-data.s3.us.cloud-object-storage.appdomain.cloud/assets/logos/SN_web_lightmode.png\" width=\"200\" alt=\"Skills Network Logo\"  />\n    </a>\n</p>\n\n",
      "metadata": {}
    },
    {
      "cell_type": "markdown",
      "source": "#### Import the required libraries we need for the lab.\n",
      "metadata": {}
    },
    {
      "cell_type": "code",
      "source": "import piplite\nawait piplite.install(['numpy'],['pandas'])\nawait piplite.install(['seaborn'])",
      "metadata": {},
      "outputs": [],
      "execution_count": null
    },
    {
      "cell_type": "code",
      "source": "import pandas as pd\nimport pandas as pd\nimport seaborn as sns\nimport matplotlib.pyplot as pyplot\nimport scipy.stats\nimport statsmodels.api as sm\nfrom statsmodels.formula.api import ols",
      "metadata": {},
      "outputs": [],
      "execution_count": null
    },
    {
      "cell_type": "markdown",
      "source": "#### Read the dataset in the csv file from the URL\n",
      "metadata": {}
    },
    {
      "cell_type": "code",
      "source": "from js import fetch\nimport io\n\nURL = 'https://cf-courses-data.s3.us.cloud-object-storage.appdomain.cloud/IBMDeveloperSkillsNetwork-ST0151EN-SkillsNetwork/labs/boston_housing.csv'\nresp = await fetch(URL)\nboston_url = io.BytesIO((await resp.arrayBuffer()).to_py())",
      "metadata": {},
      "outputs": [],
      "execution_count": null
    },
    {
      "cell_type": "code",
      "source": "boston_df=pd.read_csv(boston_url)",
      "metadata": {},
      "outputs": [],
      "execution_count": null
    },
    {
      "cell_type": "markdown",
      "source": "#### Add your code below following the instructions given in the course to complete the peer graded assignment\n",
      "metadata": {}
    },
    {
      "cell_type": "code",
      "source": "# Import necessary libraries\nimport pandas as pd\nimport numpy as np\n\n# Load the dataset\ndf = pd.read_csv('path_to_dataset.csv')  # Replace with your dataset path\n\n# Display the first few rows of the dataset\ndf.head()\n\n# Display general information about the dataset\ndf.info()\n\n# Check for missing values\ndf.isnull().sum()\n\n# Display descriptive statistics for numerical variables\ndf.describe()\n",
      "metadata": {},
      "outputs": [],
      "execution_count": null
    },
    {
      "cell_type": "code",
      "source": "import matplotlib.pyplot as plt\nimport seaborn as sns\n\n# Boxplot for MEDV\nplt.figure(figsize=(8, 6))\nsns.boxplot(data=df, x='MEDV')\nplt.title('Boxplot of Median Value of Owner-Occupied Homes (MEDV)')\nplt.xlabel('Median Value of Owner-Occupied Homes ($1000s)')\nplt.show()\n",
      "metadata": {
        "trusted": true
      },
      "outputs": [],
      "execution_count": null
    },
    {
      "cell_type": "code",
      "source": "# Discretize the AGE variable into three groups\nbins = [0, 35, 70, np.inf]\nlabels = ['35 and younger', '35 to 70', '70 and older']\ndf['AGE_group'] = pd.cut(df['AGE'], bins=bins, labels=labels)\n\n# Boxplot for MEDV vs AGE_group\nplt.figure(figsize=(8, 6))\nsns.boxplot(x='AGE_group', y='MEDV', data=df)\nplt.title('Boxplot of MEDV vs AGE Group')\nplt.xlabel('Age Group')\nplt.ylabel('Median Value of Owner-Occupied Homes ($1000s)')\nplt.show()\n",
      "metadata": {
        "trusted": true
      },
      "outputs": [],
      "execution_count": null
    },
    {
      "cell_type": "code",
      "source": "# Scatter plot for NOX vs INDUS\nplt.figure(figsize=(8, 6))\nsns.scatterplot(x='NOX', y='INDUS', data=df)\nplt.title('Scatter Plot of Nitric Oxide Concentrations (NOX) vs Non-Retail Business Acres (INDUS)')\nplt.xlabel('Nitric Oxide Concentration (parts per 10 million)')\nplt.ylabel('Proportion of Non-Retail Business Acres')\nplt.show()\n",
      "metadata": {
        "trusted": true
      },
      "outputs": [],
      "execution_count": null
    },
    {
      "cell_type": "code",
      "source": "# Histogram for PTRATIO\nplt.figure(figsize=(8, 6))\nsns.histplot(df['PTRATIO'], kde=True)\nplt.title('Histogram of Pupil-Teacher Ratio (PTRATIO)')\nplt.xlabel('Pupil-Teacher Ratio')\nplt.ylabel('Frequency')\nplt.show()\n",
      "metadata": {
        "trusted": true
      },
      "outputs": [],
      "execution_count": null
    },
    {
      "cell_type": "code",
      "source": "from scipy.stats import ttest_ind\n\n# Separate the data by the Charles River boundary (CHAS)\nwith_river = df[df['CHAS'] == 1]['MEDV']\nwithout_river = df[df['CHAS'] == 0]['MEDV']\n\n# Perform independent T-test\nt_stat, p_value = ttest_ind(with_river, without_river)\n\n# Display results\nprint(f\"T-statistic: {t_stat}\")\nprint(f\"P-value: {p_value}\")\n\n# Hypothesis testing\nif p_value < 0.05:\n    print(\"Reject the null hypothesis: There is a significant difference in the median value of houses.\")\nelse:\n    print(\"Fail to reject the null hypothesis: No significant difference in the median value of houses.\")\n",
      "metadata": {
        "trusted": true
      },
      "outputs": [],
      "execution_count": null
    },
    {
      "cell_type": "code",
      "source": "from scipy.stats import f_oneway\n\n# Perform ANOVA for MEDV grouped by AGE group\nage_groups = [df[df['AGE_group'] == group]['MEDV'] for group in df['AGE_group'].unique()]\nf_stat, p_value = f_oneway(*age_groups)\n\n# Display results\nprint(f\"F-statistic: {f_stat}\")\nprint(f\"P-value: {p_value}\")\n\n# Hypothesis testing\nif p_value < 0.05:\n    print(\"Reject the null hypothesis: There is a significant difference in MEDV across AGE groups.\")\nelse:\n    print(\"Fail to reject the null hypothesis: No significant difference in MEDV across AGE groups.\")\n",
      "metadata": {
        "trusted": true
      },
      "outputs": [],
      "execution_count": null
    },
    {
      "cell_type": "code",
      "source": "from scipy.stats import pearsonr\n\n# Calculate Pearson correlation\ncorr_coefficient, p_value = pearsonr(df['NOX'], df['INDUS'])\n\n# Display results\nprint(f\"Pearson correlation coefficient: {corr_coefficient}\")\nprint(f\"P-value: {p_value}\")\n\n# Hypothesis testing\nif p_value < 0.05:\n    print(\"Reject the null hypothesis: There is a significant relationship between NOX and INDUS.\")\nelse:\n    print(\"Fail to reject the null hypothesis: No significant relationship between NOX and INDUS.\")\n",
      "metadata": {
        "trusted": true
      },
      "outputs": [],
      "execution_count": null
    },
    {
      "cell_type": "code",
      "source": "import statsmodels.api as sm\n\n# Define the dependent and independent variables\nX = df['DIS']\ny = df['MEDV']\n\n# Add constant to independent variable\nX = sm.add_constant(X)\n\n# Fit the regression model\nmodel = sm.OLS(y, X).fit()\n\n# Display the regression results\nprint(model.summary())\n",
      "metadata": {
        "trusted": true
      },
      "outputs": [
        {
          "ename": "<class 'NameError'>",
          "evalue": "name 'df' is not defined",
          "traceback": [
            "\u001b[0;31m---------------------------------------------------------------------------\u001b[0m",
            "\u001b[0;31mNameError\u001b[0m                                 Traceback (most recent call last)",
            "Cell \u001b[0;32mIn[1], line 4\u001b[0m\n\u001b[1;32m      1\u001b[0m \u001b[38;5;28;01mimport\u001b[39;00m \u001b[38;5;21;01mstatsmodels\u001b[39;00m\u001b[38;5;21;01m.\u001b[39;00m\u001b[38;5;21;01mapi\u001b[39;00m \u001b[38;5;28;01mas\u001b[39;00m \u001b[38;5;21;01msm\u001b[39;00m\n\u001b[1;32m      3\u001b[0m \u001b[38;5;66;03m# Define the dependent and independent variables\u001b[39;00m\n\u001b[0;32m----> 4\u001b[0m X \u001b[38;5;241m=\u001b[39m \u001b[43mdf\u001b[49m[\u001b[38;5;124m'\u001b[39m\u001b[38;5;124mDIS\u001b[39m\u001b[38;5;124m'\u001b[39m]\n\u001b[1;32m      5\u001b[0m y \u001b[38;5;241m=\u001b[39m df[\u001b[38;5;124m'\u001b[39m\u001b[38;5;124mMEDV\u001b[39m\u001b[38;5;124m'\u001b[39m]\n\u001b[1;32m      7\u001b[0m \u001b[38;5;66;03m# Add constant to independent variable\u001b[39;00m\n",
            "\u001b[0;31mNameError\u001b[0m: name 'df' is not defined"
          ],
          "output_type": "error"
        }
      ],
      "execution_count": 1
    },
    {
      "cell_type": "code",
      "source": "",
      "metadata": {
        "trusted": true
      },
      "outputs": [],
      "execution_count": null
    },
    {
      "cell_type": "code",
      "source": "",
      "metadata": {
        "trusted": true
      },
      "outputs": [],
      "execution_count": null
    },
    {
      "cell_type": "code",
      "source": "",
      "metadata": {
        "trusted": true
      },
      "outputs": [],
      "execution_count": null
    }
  ]
}